{
  "nbformat": 4,
  "nbformat_minor": 0,
  "metadata": {
    "colab": {
      "provenance": [],
      "authorship_tag": "ABX9TyMuwsh4wE0NuK3T2UxzgIx5",
      "include_colab_link": true
    },
    "kernelspec": {
      "name": "python3",
      "display_name": "Python 3"
    },
    "language_info": {
      "name": "python"
    }
  },
  "cells": [
    {
      "cell_type": "markdown",
      "metadata": {
        "id": "view-in-github",
        "colab_type": "text"
      },
      "source": [
        "<a href=\"https://colab.research.google.com/github/SAXBYM100/App/blob/main/1.1.ipynb\" target=\"_parent\"><img src=\"https://colab.research.google.com/assets/colab-badge.svg\" alt=\"Open In Colab\"/></a>"
      ]
    },
    {
      "cell_type": "code",
      "execution_count": 2,
      "metadata": {
        "colab": {
          "base_uri": "https://localhost:8080/"
        },
        "id": "PLOe6z4u2jiw",
        "outputId": "595f506a-f659-4453-ddda-48be2eecd463"
      },
      "outputs": [
        {
          "output_type": "stream",
          "name": "stdout",
          "text": [
            "     x    y    z  u\n",
            "0  1.2  0.7  2.0  0\n",
            "2  2.4  1.0  3.2  0\n",
            "4  1.8  0.9  2.3  0\n",
            "1.7999999999999998\n",
            "0.36\n"
          ]
        }
      ],
      "source": [
        "#import pandas as pd\n",
        "#\n",
        "#data = {\n",
        "#    'X': [1.2, 3.1, 2.4, 1.0, 1.8],\n",
        "#    'Y': [0.7, 2.6, 1.0, 1.6, 0.9],\n",
        "#    'Z': [2.0, 1.8, 3.2, 2.5, 2.3],\n",
        "#    'U': [0, 1, 0, 1, 0]\n",
        "#}\n",
        "#\n",
        "#load data into a DataFrame object:\n",
        "#df = pd.DataFrame(data)\n",
        "#\n",
        "#print(df)\n",
        "\n",
        "import pandas as pd\n",
        "import numpy as np\n",
        "\n",
        "x = [1.2, 3.1, 2.4, 1.0, 1.8]\n",
        "y = [0.7, 2.6, 1.0, 1.6, 0.9]\n",
        "z = [2.0, 1.8, 3.2, 2.5, 2.3]\n",
        "u = [0, 1, 0, 1, 0]\n",
        "\n",
        "# Setting data as a DataFrame\n",
        "df = pd.DataFrame({\n",
        "    'x': x,\n",
        "    'y': y,\n",
        "    'z': z,\n",
        "    'u': u\n",
        "})\n",
        "\n",
        "# filter where u == 0)\n",
        "# Reference: https://pandas.pydata.org/docs/user_guide/indexing.html#boolean-indexing\n",
        "dfx = df[df['u'] == 0]\n",
        "print(dfx)\n",
        "\n",
        "# Calculate mean of x where u == 0\n",
        "mean = dfx['x'].mean()\n",
        "print(mean)\n",
        "\n",
        "# Calculate variance of x where u == 0\n",
        "# Note: pandas uses ddof=1 by default (sample variance, like R)\n",
        "variance = dfx['x'].var()\n",
        "print(variance)"
      ]
    }
  ]
}